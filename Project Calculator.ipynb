{
 "cells": [
  {
   "cell_type": "code",
   "execution_count": 1,
   "id": "adb4ee2e",
   "metadata": {},
   "outputs": [
    {
     "name": "stdout",
     "output_type": "stream",
     "text": [
      "First No. is: 45\n",
      "Second No. is: 34\n",
      "For Addition Press: +\n",
      "For Subtraction Press: -\n",
      "For Multiplication Press: *\n",
      "For Division Press: /\n",
      "For Modulas Press: %\n",
      "For Percentage Press:P\n",
      "Addition is: 79\n"
     ]
    }
   ],
   "source": [
    "a = int(input(\"Enter first number:\"))\n",
    "print(\"First No. is:\",a)\n",
    "b = int(input(\"Enter second number:\"))\n",
    "print(\"Second No. is:\",b)\n",
    "print(\"For Addition Press: +\")\n",
    "print(\"For Subtraction Press: -\")\n",
    "print(\"For Multiplication Press: *\")\n",
    "print(\"For Division Press: /\")\n",
    "print(\"For Modulas Press: %\")\n",
    "print(\"For Percentage Press:P\")\n",
    "C = str(input(\"Enter operation:\"))\n",
    "if C==\"+\":\n",
    "    Addition = a+b\n",
    "    print(\"Addition is:\",Addition)\n",
    "elif C==\"-\":\n",
    "    Subtraction=a-b\n",
    "    print(\"Subtraction is:\",Subtraction)\n",
    "elif C==\"*\":\n",
    "    Multiplication = a*b\n",
    "    print(\"Multiplication is:\",Multiplication)\n",
    "elif C==\"/\":\n",
    "    Divide = a/b\n",
    "    print(\"Divide is:\",Divide)\n",
    "elif C==\"%\":\n",
    "    Modulus = a%b\n",
    "    print(\"Modulus is:\",Modulus)\n",
    "elif C==\"P\":\n",
    "    Percentage = (a+b)/100\n",
    "    print(\"Percentage is:\",Percentage)\n",
    "else:\n",
    "    print(\"Invalid Operation !\")\n"
   ]
  }
 ],
 "metadata": {
  "kernelspec": {
   "display_name": "Python 3",
   "language": "python",
   "name": "python3"
  },
  "language_info": {
   "codemirror_mode": {
    "name": "ipython",
    "version": 3
   },
   "file_extension": ".py",
   "mimetype": "text/x-python",
   "name": "python",
   "nbconvert_exporter": "python",
   "pygments_lexer": "ipython3",
   "version": "3.13.1"
  }
 },
 "nbformat": 4,
 "nbformat_minor": 5
}
